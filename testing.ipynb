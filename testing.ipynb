{
 "cells": [
  {
   "cell_type": "code",
   "execution_count": 45,
   "metadata": {},
   "outputs": [
    {
     "ename": "ImportError",
     "evalue": "cannot import name 'plot_numpy_images' from 'fancy_spec_plot' (c:\\Users\\zacha\\OneDrive\\Desktop\\M3_Pro\\fancy_spec_plot.py)",
     "output_type": "error",
     "traceback": [
      "\u001b[1;31m---------------------------------------------------------------------------\u001b[0m",
      "\u001b[1;31mImportError\u001b[0m                               Traceback (most recent call last)",
      "Cell \u001b[1;32mIn[45], line 13\u001b[0m\n\u001b[0;32m     11\u001b[0m \u001b[39mimport\u001b[39;00m \u001b[39mspectral\u001b[39;00m \u001b[39mas\u001b[39;00m \u001b[39msp\u001b[39;00m\n\u001b[0;32m     12\u001b[0m \u001b[39mimport\u001b[39;00m \u001b[39mtifffile\u001b[39;00m \u001b[39mas\u001b[39;00m \u001b[39mtf\u001b[39;00m\n\u001b[1;32m---> 13\u001b[0m \u001b[39mfrom\u001b[39;00m \u001b[39mfancy_spec_plot\u001b[39;00m \u001b[39mimport\u001b[39;00m plot_numpy_images\n\u001b[0;32m     14\u001b[0m \u001b[39mfrom\u001b[39;00m \u001b[39mcopy\u001b[39;00m \u001b[39mimport\u001b[39;00m copy\n\u001b[0;32m     17\u001b[0m \u001b[39mdef\u001b[39;00m \u001b[39mplot_numpy_images\u001b[39m(\u001b[39m*\u001b[39margs:np\u001b[39m.\u001b[39mndarray,\u001b[39m*\u001b[39m\u001b[39m*\u001b[39mkwargs:np\u001b[39m.\u001b[39mndarray):\n",
      "\u001b[1;31mImportError\u001b[0m: cannot import name 'plot_numpy_images' from 'fancy_spec_plot' (c:\\Users\\zacha\\OneDrive\\Desktop\\M3_Pro\\fancy_spec_plot.py)"
     ]
    }
   ],
   "source": [
    "import numpy as np\n",
    "import os\n",
    "import pandas as pd\n",
    "from HySpec_Image_Processing import HDR_Image\n",
    "from fancy_spec_plot import fancy_spec_plot\n",
    "import matplotlib.pyplot as plt\n",
    "from spec_average import spec_avg\n",
    "from scipy import interpolate as interp\n",
    "import numpy.random as r\n",
    "from scipy import signal\n",
    "import spectral as sp\n",
    "import tifffile as tf\n",
    "from fancy_spec_plot import plot_numpy_images\n",
    "from copy import copy\n",
    "\n",
    "\n",
    "def plot_numpy_images(*args:np.ndarray,**kwargs:np.ndarray):\n",
    "    defaultKwargs = {\"titles\":[],\"figsize\":(8,16)}\n",
    "    kwargs = {**defaultKwargs,**kwargs}\n",
    "\n",
    "    fig = plt.figure(figsize=kwargs.get(\"figsize\"))\n",
    "    col_num = len(args)\n",
    "    for num,image in enumerate(args):\n",
    "        ax = fig.add_subplot(1,col_num,num+1)\n",
    "        ax.set_xticks([])\n",
    "        ax.set_yticks([])\n",
    "        ax.set_title(kwargs.get('titles')[num])\n",
    "        ax.imshow(image)\n",
    "\n",
    "mu = np.array([0,0])\n",
    "cov = np.array(([1,0.5],[0.5,1]))\n",
    "multi=np.random.multivariate_normal(mu,cov,10000)\n",
    "x,y = multi.T[0],multi.T[1]\n",
    "dist = np.histogram2d(x,y,bins=5)\n",
    "\n",
    "\n",
    "def destripe(image,box_size,**kwargs):\n",
    "    defaultKwargs = {\"plotImg\":False}\n",
    "    kwargs = {**defaultKwargs,**kwargs}\n",
    "\n",
    "    destripedImage = np.zeros(image.shape)\n",
    "    n=0\n",
    "    for row in range(image.shape[0]):\n",
    "        xCoords = np.arange(image.shape[1])\n",
    "        yAvg,std,xAvg = spec_avg(image[row,:,0],xCoords,box_size)\n",
    "        f = interp.CubicSpline(xAvg,yAvg)\n",
    "        xtest = np.linspace(0,image.shape[1],304)\n",
    "        destripedImage[row,:,0] = f(xtest)\n",
    "        if kwargs.get('plotImg') == True:\n",
    "            if n<3:\n",
    "                fig,ax = plt.subplots(1,1)\n",
    "                ax.plot(xCoords,image[row,:,0])\n",
    "                ax.plot(xAvg,yAvg)\n",
    "                ax.plot(xtest,f(xtest))\n",
    "            else:\n",
    "                pass\n",
    "            fig,ax = plt.subplots(1,1)\n",
    "            ax.imshow(destripedImage[:,:,0])\n",
    "\n",
    "        n+=1\n",
    "\n",
    "    return destripedImage\n",
    "\n",
    "\n",
    "   \n",
    "\n",
    "hdr = sp.envi.open(r'D:\\Data/20230209T095534013597/extracted_files/hdr_files/m3g20090417t193320_v01_rfl/m3g20090417t193320_v01_rfl.hdr')\n",
    "bandCenters = hdr.bands.centers\n",
    "bandCenters = np.array(bandCenters)\n",
    "\n",
    "allowedIndices = np.where((bandCenters>900)&(bandCenters<2600))[0]\n",
    "allowedWvl = bandCenters[allowedIndices]\n",
    "\n",
    "image = hdr.read_bands(allowedIndices)\n",
    "\n",
    "im1,im2,im3,im4 = destripe(image,3),destripe(image,5),destripe(image,7),destripe(image,10)\n",
    "\n",
    "plot_numpy_images(im1,im2,im3,im4,titles=['3','5','7','10'])"
   ]
  },
  {
   "cell_type": "code",
   "execution_count": 48,
   "metadata": {},
   "outputs": [],
   "source": [
    "from fancy_spec_plot import "
   ]
  }
 ],
 "metadata": {
  "kernelspec": {
   "display_name": "Python 3",
   "language": "python",
   "name": "python3"
  },
  "language_info": {
   "codemirror_mode": {
    "name": "ipython",
    "version": 3
   },
   "file_extension": ".py",
   "mimetype": "text/x-python",
   "name": "python",
   "nbconvert_exporter": "python",
   "pygments_lexer": "ipython3",
   "version": "3.10.10"
  },
  "orig_nbformat": 4
 },
 "nbformat": 4,
 "nbformat_minor": 2
}
