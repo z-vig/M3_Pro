{
 "cells": [
  {
   "cell_type": "code",
   "execution_count": 28,
   "metadata": {},
   "outputs": [],
   "source": [
    "import M3_UnZip\n",
    "import os\n",
    "import shutil"
   ]
  },
  {
   "cell_type": "code",
   "execution_count": 29,
   "metadata": {},
   "outputs": [
    {
     "name": "stdout",
     "output_type": "stream",
     "text": [
      "20090417_193320.tif.aux.xml\n",
      "20090515_043023.tif.aux.xml\n",
      "20090515_043107.tif.aux.xml\n",
      "20090605_163232.tif.aux.xml\n",
      "20090610_153615.tif.aux.xml\n",
      "20090612_100753.tif.aux.xml\n",
      "20090620_134322.tif.aux.xml\n",
      "20090624_024343.tif.aux.xml\n",
      "20090712_174132.tif.aux.xml\n",
      "20090717_041242.tif.aux.xml\n",
      "20090730_114942.tif.aux.xml\n",
      "20090812_195113.tif.aux.xml\n",
      "20090813_212753.tif.aux.xml\n",
      "20090814_060013.tif.aux.xml\n"
     ]
    }
   ],
   "source": [
    "##Getting all .tifw.aux.xml files\n",
    "for root,dirs,files in os.walk('E:/Data/Lunar_Ice_Images'):\n",
    "    if root.find('Raster_World_Files')>-1:\n",
    "        projectionFile = [i for i in files if i.find(\"tif.aux.xml\")>-1]\n",
    "        print (projectionFile[0])\n",
    "        shutil.copy(os.path.join(root,projectionFile[0]),os.path.join('E:/Data/Mosaic_Projections',projectionFile[0]))\n"
   ]
  },
  {
   "cell_type": "code",
   "execution_count": 66,
   "metadata": {},
   "outputs": [
    {
     "name": "stdout",
     "output_type": "stream",
     "text": [
      "\n",
      "\n",
      "\n",
      "\n",
      "\n",
      "\n",
      "\n",
      "\n",
      "\n",
      "\n",
      "\n",
      "\n",
      "\n",
      "\n"
     ]
    }
   ],
   "source": [
    "##Saving Projection Strings as .txt files\n",
    "projectionFileList = []\n",
    "for root,dirs,files in os.walk(\"E:/Data/Mosaic_Projections\"):\n",
    "    for file in files:\n",
    "        projectionFileList.append(os.path.join(root,file))\n",
    "\n",
    "#print (projectionFileList)\n",
    "def get_prj_info(path):\n",
    "    file = open(path,\"r\")\n",
    "    lines = file.readlines()\n",
    "    print (file.read())\n",
    "    line_list = []\n",
    "    char_num = 0\n",
    "    for lineNumber,line in enumerate(lines):\n",
    "        if line.find('</Metadata>')>-1:\n",
    "            break\n",
    "    for line in lines:\n",
    "        line_list.append(line)\n",
    "    for i in range(lineNumber+1):\n",
    "        char_num += len(line_list[i])\n",
    "\n",
    "    file = open(path,\"r\")\n",
    "\n",
    "    return file.read(char_num)\n",
    "\n",
    "for file in projectionFileList:\n",
    "    string = get_prj_info(file)\n",
    "    with open(\"E:Data/Mosaic_Projections/CopyThese/\"+file[len(file)-27:len(file)+1]+'.txt',\"w\") as txtfile:\n",
    "        txtfile.write(string)"
   ]
  },
  {
   "cell_type": "code",
   "execution_count": null,
   "metadata": {},
   "outputs": [],
   "source": []
  },
  {
   "cell_type": "code",
   "execution_count": 61,
   "metadata": {},
   "outputs": [],
   "source": [
    "for root,dirs,files in os.walk('E:/Data/Mosaic_Projections'):\n",
    "    if len(files) > 0:\n",
    "        for i in files:\n",
    "            if i.find('.txt') >-1:\n",
    "                os.remove(os.path.join(root,i))"
   ]
  }
 ],
 "metadata": {
  "kernelspec": {
   "display_name": "Python 3",
   "language": "python",
   "name": "python3"
  },
  "language_info": {
   "codemirror_mode": {
    "name": "ipython",
    "version": 3
   },
   "file_extension": ".py",
   "mimetype": "text/x-python",
   "name": "python",
   "nbconvert_exporter": "python",
   "pygments_lexer": "ipython3",
   "version": "3.10.10"
  },
  "orig_nbformat": 4
 },
 "nbformat": 4,
 "nbformat_minor": 2
}
