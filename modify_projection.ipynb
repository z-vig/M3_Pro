{
 "cells": [
  {
   "cell_type": "code",
   "execution_count": 38,
   "metadata": {},
   "outputs": [],
   "source": [
    "import M3_UnZip\n",
    "import os\n",
    "import shutil"
   ]
  },
  {
   "cell_type": "code",
   "execution_count": 46,
   "metadata": {},
   "outputs": [
    {
     "name": "stdout",
     "output_type": "stream",
     "text": [
      "E:/Data/Locate_Ice_Saves/2009-04-17_19-33-20\\water_locations.tif\n",
      "E:/Data/Locate_Ice_Saves/2009-05-15_04-30-23\\water_locations.tif\n",
      "E:/Data/Locate_Ice_Saves/2009-05-15_04-31-07\\water_locations.tif\n",
      "E:/Data/Locate_Ice_Saves/2009-06-05_16-32-32\\water_locations.tif\n",
      "E:/Data/Locate_Ice_Saves/2009-06-10_15-36-15\\water_locations.tif\n",
      "E:/Data/Locate_Ice_Saves/2009-06-12_10-07-53\\water_locations.tif\n",
      "E:/Data/Locate_Ice_Saves/2009-06-20_13-43-22\\water_locations.tif\n",
      "E:/Data/Locate_Ice_Saves/2009-06-24_02-43-43\\water_locations.tif\n",
      "E:/Data/Locate_Ice_Saves/2009-07-12_17-41-32\\water_locations.tif\n",
      "E:/Data/Locate_Ice_Saves/2009-07-17_04-12-42\\water_locations.tif\n",
      "E:/Data/Locate_Ice_Saves/2009-07-30_11-49-42\\water_locations.tif\n",
      "E:/Data/Locate_Ice_Saves/2009-08-12_19-51-13\\water_locations.tif\n",
      "E:/Data/Locate_Ice_Saves/2009-08-13_21-27-53\\water_locations.tif\n",
      "E:/Data/Locate_Ice_Saves/2009-08-14_06-00-13\\water_locations.tif\n"
     ]
    }
   ],
   "source": [
    "walk = os.walk(r'E:/Data/Locate_Ice_Saves/')\n",
    "imgProducts = r'C:/Users/zvig/OneDrive - University of Iowa/Desktop/Lunar Images/Image Products/'\n",
    "for root,dirs,files in walk:\n",
    "    if root.find('2009')>-1:\n",
    "        for file in files:\n",
    "            if file.find('water_locations.tif')>-1:\n",
    "                print (os.path.join(root,file))\n",
    "                objID = root[len(root)-19:len(root)+1]\n",
    "                shutil.copy(os.path.join(root,file),os.path.join(imgProducts,'Water Locations',f'WaterLocations_{objID}.tif'))"
   ]
  },
  {
   "cell_type": "code",
   "execution_count": 29,
   "metadata": {},
   "outputs": [
    {
     "name": "stdout",
     "output_type": "stream",
     "text": [
      "20090417_193320.tif.aux.xml\n",
      "20090515_043023.tif.aux.xml\n",
      "20090515_043107.tif.aux.xml\n",
      "20090605_163232.tif.aux.xml\n",
      "20090610_153615.tif.aux.xml\n",
      "20090612_100753.tif.aux.xml\n",
      "20090620_134322.tif.aux.xml\n",
      "20090624_024343.tif.aux.xml\n",
      "20090712_174132.tif.aux.xml\n",
      "20090717_041242.tif.aux.xml\n",
      "20090730_114942.tif.aux.xml\n",
      "20090812_195113.tif.aux.xml\n",
      "20090813_212753.tif.aux.xml\n",
      "20090814_060013.tif.aux.xml\n"
     ]
    }
   ],
   "source": [
    "##Getting all .tifw.aux.xml files\n",
    "for root,dirs,files in os.walk('E:/Data/Lunar_Ice_Images'):\n",
    "    if root.find('Raster_World_Files')>-1:\n",
    "        projectionFile = [i for i in files if i.find(\"tif.aux.xml\")>-1]\n",
    "        print (projectionFile[0])\n",
    "        shutil.copy(os.path.join(root,projectionFile[0]),os.path.join('E:/Data/Mosaic_Projections',projectionFile[0]))\n"
   ]
  },
  {
   "cell_type": "code",
   "execution_count": 66,
   "metadata": {},
   "outputs": [
    {
     "name": "stdout",
     "output_type": "stream",
     "text": [
      "\n",
      "\n",
      "\n",
      "\n",
      "\n",
      "\n",
      "\n",
      "\n",
      "\n",
      "\n",
      "\n",
      "\n",
      "\n",
      "\n"
     ]
    }
   ],
   "source": [
    "##Saving Projection Strings as .txt files\n",
    "projectionFileList = []\n",
    "for root,dirs,files in os.walk(\"E:/Data/Mosaic_Projections\"):\n",
    "    for file in files:\n",
    "        projectionFileList.append(os.path.join(root,file))\n",
    "\n",
    "#print (projectionFileList)\n",
    "def get_prj_info(path):\n",
    "    file = open(path,\"r\")\n",
    "    lines = file.readlines()\n",
    "    print (file.read())\n",
    "    line_list = []\n",
    "    char_num = 0\n",
    "    for lineNumber,line in enumerate(lines):\n",
    "        if line.find('</Metadata>')>-1:\n",
    "            break\n",
    "    for line in lines:\n",
    "        line_list.append(line)\n",
    "    for i in range(lineNumber+1):\n",
    "        char_num += len(line_list[i])\n",
    "\n",
    "    file = open(path,\"r\")\n",
    "\n",
    "    return file.read(char_num)\n",
    "\n",
    "for file in projectionFileList:\n",
    "    string = get_prj_info(file)\n",
    "    with open(\"E:Data/Mosaic_Projections/CopyThese/\"+file[len(file)-27:len(file)+1]+'.txt',\"w\") as txtfile:\n",
    "        txtfile.write(string)"
   ]
  },
  {
   "cell_type": "code",
   "execution_count": 37,
   "metadata": {},
   "outputs": [
    {
     "name": "stdout",
     "output_type": "stream",
     "text": [
      "Strings are not the same!\n",
      "6677\n",
      "Correct:  Y=\"2.133089094401E+03\" />\n",
      "    <GCP Id=\"\" Pixel=\"-3.9378\" Line=\"-925.8219\" X=\"-3.526801717064E+03\" Y=\"-5.636706465271E+01\" />\n",
      "    <GCP Id=\"\" Pixel=\"-0.8185\" Line=\"-969.2938\" X=\"-1.514249476637E+03\" Y=\"-6.097879675028E+03\" />\n",
      "    <GCP Id=\"\" Pixel=\"-0.1323\" Line=\"-785.1086\" X=\"-1.636905818075E+04\" Y=\"1.798812543054E+04\" />\n",
      "    <GCP Id=\"\" Pixel=\"152.1722\" Line=\"0.6590\" X=\"-7.265563876843E+04\" Y=\"1.289114198845E+05\" />\n",
      "    <GCP Id=\"\" Pixel=\"132.2332\" Line=\"0.6474\" X=\"-7.507802571650E+04\" Y=\"1.271338578370E+05\" />\n",
      "    <GCP Id=\"\" Pixel=\"94.5208\" Line=\"-561.1001\" X=\"-2.582771245876E+04\" Y=\"5.407834705337E+04\" />\n",
      "    <GCP Id=\"\" Pixel=\"104.5905\" Line=\"-570.3731\" X=\"-2.381481563330E+04\" Y=\"5.345283069685E+04\" />\n",
      "    <GCP Id=\"\" Pixel=\"-0.8637\" Line=\"-558.5152\" X=\"-3.756321046405E+04\" Y=\"4.610172021958E+04\" />\n",
      "    <GCP Id=\"\" Pixel=\"135.9578\" Line=\"-362.9575\" X=\"-3.921010678624E+04\" Y=\"8.228007178486E+04\" />\n",
      "  </GCPList>\n",
      "  <PAMRasterBand band=\"1\">\n",
      "    <Histograms>\n",
      "      <HistItem>\n",
      "        <HistMin>0, \n",
      "\n",
      "Test: Y=\"2.133089094401E+03\" />\n",
      "    <GCP Id=\"\" Pixel=\"-3.9378\" Line=\"-925.8219\" X=\"-3.526801717064E+03\" Y=\"-5.636706465271E+01\" />\n",
      "    <GCP Id=\"\" Pixel=\"-0.8185\" Line=\"-969.2938\" X=\"-1.514249476637E+03\" Y=\"-6.097879675028E+03\" />\n",
      "    <GCP Id=\"\" Pixel=\"-0.1323\" Line=\"-785.1086\" X=\"-1.636905818075E+04\" Y=\"1.798812543054E+04\" />\n",
      "    <GCP Id=\"\" Pixel=\"152.1722\" Line=\"0.6590\" X=\"-7.265563876843E+04\" Y=\"1.289114198845E+05\" />\n",
      "    <GCP Id=\"\" Pixel=\"132.2332\" Line=\"0.6474\" X=\"-7.507802571650E+04\" Y=\"1.271338578370E+05\" />\n",
      "    <GCP Id=\"\" Pixel=\"94.5208\" Line=\"-561.1001\" X=\"-2.582771245876E+04\" Y=\"5.407834705337E+04\" />\n",
      "    <GCP Id=\"\" Pixel=\"104.5905\" Line=\"-570.3731\" X=\"-2.381481563330E+04\" Y=\"5.345283069685E+04\" />\n",
      "    <GCP Id=\"\" Pixel=\"-0.8637\" Line=\"-558.5152\" X=\"-3.756321046405E+04\" Y=\"4.610172021958E+04\" />\n",
      "    <GCP Id=\"\" Pixel=\"135.9578\" Line=\"-362.9575\" X=\"-3.921010678624E+04\" Y=\"8.228007178486E+04\" />\n",
      "  </GCPList>\n",
      "  <PAMRasterBand band=\"1\">\n",
      "    <Histograms>\n",
      "      <HistItem>\n",
      "        <HistMin>-\n"
     ]
    }
   ],
   "source": [
    "corrFile = r\"C:\\Users\\zvig\\OneDrive - University of Iowa\\Desktop\\original.tif.aux.xml\"\n",
    "testFile = r\"C:\\Users\\zvig\\OneDrive - University of Iowa\\Desktop\\ImageProductsCopy\\original_2009-04-17_19-33-20.tif.aux.xml\"\n",
    "with open(corrFile,'r') as c:\n",
    "    with open(testFile,'r') as t:\n",
    "        if c.read() == t.read():\n",
    "            print('Strings are the same!')\n",
    "        else:\n",
    "            print('Strings are not the same!')\n",
    "\n",
    "with open(corrFile,'r') as c:\n",
    "    with open(testFile,'r') as t:\n",
    "        n=0\n",
    "        for x,y in zip(c.read(),t.read()):\n",
    "            if x!=y:\n",
    "                print (n)\n",
    "                break\n",
    "            n+=1\n",
    "\n",
    "with open(corrFile,'r') as c:\n",
    "    with open(testFile,'r') as t:\n",
    "        print(f'Correct: {c.read()[n-1000:n+1]}, \\n\\nTest:{t.read()[n-1000:n+1]}')\n",
    "        "
   ]
  },
  {
   "cell_type": "code",
   "execution_count": 61,
   "metadata": {},
   "outputs": [],
   "source": []
  }
 ],
 "metadata": {
  "kernelspec": {
   "display_name": "Python 3",
   "language": "python",
   "name": "python3"
  },
  "language_info": {
   "codemirror_mode": {
    "name": "ipython",
    "version": 3
   },
   "file_extension": ".py",
   "mimetype": "text/x-python",
   "name": "python",
   "nbconvert_exporter": "python",
   "pygments_lexer": "ipython3",
   "version": "3.10.10"
  },
  "orig_nbformat": 4
 },
 "nbformat": 4,
 "nbformat_minor": 2
}
