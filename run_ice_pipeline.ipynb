{
 "cells": [
  {
   "cell_type": "code",
   "execution_count": 9,
   "metadata": {},
   "outputs": [],
   "source": [
    "##Importing Modules\n",
    "import M3_Image_Class\n",
    "from importlib import reload\n",
    "reload(M3_Image_Class)\n",
    "from M3_Image_Class import M3_Stamp\n",
    "import matplotlib.pyplot as plt\n",
    "import numpy as np\n",
    "import pandas as pd\n",
    "import tifffile as tf\n",
    "import rasterio as rio\n",
    "import os\n",
    "from os import path as path\n",
    "import time"
   ]
  },
  {
   "cell_type": "code",
   "execution_count": 3,
   "metadata": {},
   "outputs": [
    {
     "name": "stdout",
     "output_type": "stream",
     "text": [
      "98 of 98 (100.0%)\r"
     ]
    }
   ],
   "source": [
    "##Loading in smoothed spectral images\n",
    "ice_pipe_folder = 'D:/Data/Ice_Pipeline_Out_7-19-23'\n",
    "smooth_folder = path.join(ice_pipe_folder,'rfl_smooth')\n",
    "\n",
    "def find(s,c):\n",
    "    return [n for n,i in enumerate(s) if i==c]\n",
    "\n",
    "in_dict = {}\n",
    "prog,tot = 1,len(os.listdir(smooth_folder))\n",
    "for file in os.listdir(smooth_folder):\n",
    "    im = tf.imread(path.join(smooth_folder,file))\n",
    "    in_dict.update({file[:find(file,'_')[0]]:im})\n",
    "    print (f'\\r{prog} of {tot} ({prog/tot:.1%})',end='\\r')\n",
    "    prog+=1"
   ]
  },
  {
   "cell_type": "code",
   "execution_count": 20,
   "metadata": {},
   "outputs": [
    {
     "name": "stdout",
     "output_type": "stream",
     "text": [
      "Select Analysis Folder:\n",
      "All images destriped in 23.51 minutes (100.00%)\n"
     ]
    }
   ],
   "source": [
    "##Running destriping step\n",
    "folder_path = 'D:/Data/Ice_Pipeline_Out_8-7-23'\n",
    "print (f'Analyzing: {folder_path}')\n",
    "all_rfl_paths = [os.path.join(folder_path,'rfl_cropped',i) for i in os.listdir(os.path.join(folder_path,'rfl_cropped'))]\n",
    "all_loc_paths = [os.path.join(folder_path,'loc_cropped',i) for i in os.listdir(os.path.join(folder_path,'loc_cropped'))]\n",
    "all_obs_paths = [os.path.join(folder_path,'obs_cropped',i) for i in os.listdir(os.path.join(folder_path,'obs_cropped'))]\n",
    "\n",
    "with open(os.path.join(folder_path,'stampNames.txt')) as f:\n",
    "    stamp_names = f.readlines()\n",
    "stamp_names = [i[:-2] for i in stamp_names]\n",
    "\n",
    "prog,tot = 0,len(stamp_names)\n",
    "start_time = time.time()\n",
    "for rfl_path,loc_path,obs_path,stamp_name in zip(all_rfl_paths,all_loc_paths,all_obs_paths,stamp_names):\n",
    "    rfl_im,loc_im,obs_im = tf.imread(rfl_path),tf.imread(loc_path),tf.imread(obs_path)\n",
    "    stamp_object = M3_Stamp(rfl_im,loc_im,obs_im,stamp_name,folder_path)\n",
    "    stamp_object.destripe_images(save_step=True)\n",
    "    prog+=1\n",
    "    print (f'\\rAnalysis for {stamp_name} complete ({prog/tot:.2%})',end='\\r')\n",
    "    del rfl_im,loc_im,obs_im\n",
    "\n",
    "print (f'All images destriped in {(time.time()-start_time)/60:.2f} minutes')"
   ]
  },
  {
   "cell_type": "code",
   "execution_count": null,
   "metadata": {},
   "outputs": [],
   "source": [
    "##Running shadow correction step\n",
    "from run_correction_step import correction\n",
    "correction(False)"
   ]
  },
  {
   "cell_type": "code",
   "execution_count": 1,
   "metadata": {},
   "outputs": [
    {
     "name": "stdout",
     "output_type": "stream",
     "text": [
      "Select Analysis Folder:\n",
      "D:/Data/Ice_Pipeline_Out_8-7-23 selected for analysis\n",
      "Select input folder for spectrum smoothing step:\n",
      "The rfl_correction folder has been selected as the processing input\n",
      "Applying spline along axis 2...\n"
     ]
    },
    {
     "ename": "KeyboardInterrupt",
     "evalue": "",
     "output_type": "error",
     "traceback": [
      "\u001b[1;31m---------------------------------------------------------------------------\u001b[0m",
      "\u001b[1;31mKeyboardInterrupt\u001b[0m                         Traceback (most recent call last)",
      "Cell \u001b[1;32mIn[1], line 3\u001b[0m\n\u001b[0;32m      1\u001b[0m \u001b[39m##Running spectrum smoothing step\u001b[39;00m\n\u001b[0;32m      2\u001b[0m \u001b[39mimport\u001b[39;00m \u001b[39mrun_spectrum_smoothing_step\u001b[39;00m \u001b[39mas\u001b[39;00m \u001b[39mspec_smooth\u001b[39;00m\n\u001b[1;32m----> 3\u001b[0m spec_smooth\u001b[39m.\u001b[39;49mspectrum_smoothing(\u001b[39mFalse\u001b[39;49;00m)\n",
      "File \u001b[1;32mc:\\Users\\zvig\\OneDrive - University of Iowa\\Desktop\\Python Code\\M3_Pro\\run_spectrum_smoothing_step.py:41\u001b[0m, in \u001b[0;36mspectrum_smoothing\u001b[1;34m(save_step)\u001b[0m\n\u001b[0;32m     39\u001b[0m input_im,loc_im,obs_im \u001b[39m=\u001b[39m tf\u001b[39m.\u001b[39mimread(input_path),tf\u001b[39m.\u001b[39mimread(loc_path),tf\u001b[39m.\u001b[39mimread(obs_path)\n\u001b[0;32m     40\u001b[0m stamp_object \u001b[39m=\u001b[39m M3_Stamp(input_im,loc_im,obs_im,stamp_name,folder_path)\n\u001b[1;32m---> 41\u001b[0m stamp_object\u001b[39m.\u001b[39;49mspectrum_smoothing(save_step\u001b[39m=\u001b[39;49msave_step)\n\u001b[0;32m     42\u001b[0m prog\u001b[39m+\u001b[39m\u001b[39m=\u001b[39m\u001b[39m1\u001b[39m\n\u001b[0;32m     43\u001b[0m \u001b[39mprint\u001b[39m (\u001b[39mf\u001b[39m\u001b[39m'\u001b[39m\u001b[39m\\r\u001b[39;00m\u001b[39mAnalysis for \u001b[39m\u001b[39m{\u001b[39;00mstamp_name\u001b[39m}\u001b[39;00m\u001b[39m complete (\u001b[39m\u001b[39m{\u001b[39;00mprog\u001b[39m/\u001b[39mtot\u001b[39m:\u001b[39;00m\u001b[39m.2%\u001b[39m\u001b[39m}\u001b[39;00m\u001b[39m)\u001b[39m\u001b[39m'\u001b[39m,end\u001b[39m=\u001b[39m\u001b[39m'\u001b[39m\u001b[39m\\r\u001b[39;00m\u001b[39m'\u001b[39m)\n",
      "File \u001b[1;32mc:\\Users\\zvig\\OneDrive - University of Iowa\\Desktop\\Python Code\\M3_Pro\\M3_Image_Class.py:99\u001b[0m, in \u001b[0;36mM3_Stamp.spectrum_smoothing\u001b[1;34m(self, **kwargs)\u001b[0m\n\u001b[0;32m     97\u001b[0m \u001b[39m#Beginning cubic spline fitting for each pixel\u001b[39;00m\n\u001b[0;32m     98\u001b[0m startTime \u001b[39m=\u001b[39m time\u001b[39m.\u001b[39mtime()\n\u001b[1;32m---> 99\u001b[0m avgWvl,avg_spec_im,\u001b[39mself\u001b[39m\u001b[39m.\u001b[39msmooth_im \u001b[39m=\u001b[39m csi\u001b[39m.\u001b[39;49mspline_fit(\u001b[39mself\u001b[39;49m\u001b[39m.\u001b[39;49minput_im,\u001b[39m5\u001b[39;49m,\u001b[39mself\u001b[39;49m\u001b[39m.\u001b[39;49manalyzed_wavelengths)\n\u001b[0;32m    101\u001b[0m \u001b[39mif\u001b[39;00m kwargs\u001b[39m.\u001b[39mget(\u001b[39m'\u001b[39m\u001b[39msave_step\u001b[39m\u001b[39m'\u001b[39m)\u001b[39m==\u001b[39m\u001b[39mTrue\u001b[39;00m:\n\u001b[0;32m    102\u001b[0m     \u001b[39mtry\u001b[39;00m:\n",
      "File \u001b[1;32mc:\\Users\\zvig\\OneDrive - University of Iowa\\Desktop\\Python Code\\M3_Pro\\cubic_spline_image.py:52\u001b[0m, in \u001b[0;36mspline_fit\u001b[1;34m(inputImage, avg_num, wvl)\u001b[0m\n\u001b[0;32m     49\u001b[0m     \u001b[39mreturn\u001b[39;00m f(resample_x)\n\u001b[0;32m     51\u001b[0m \u001b[39mprint\u001b[39m (\u001b[39m'\u001b[39m\u001b[39mApplying spline along axis 2...\u001b[39m\u001b[39m'\u001b[39m)\n\u001b[1;32m---> 52\u001b[0m smoothArray \u001b[39m=\u001b[39m np\u001b[39m.\u001b[39;49mapply_along_axis(spline_func,\u001b[39m2\u001b[39;49m,averageBands)\n\u001b[0;32m     54\u001b[0m \u001b[39mreturn\u001b[39;00m averageWvl,averageBands,smoothArray\n",
      "File \u001b[1;32m<__array_function__ internals>:200\u001b[0m, in \u001b[0;36mapply_along_axis\u001b[1;34m(*args, **kwargs)\u001b[0m\n",
      "File \u001b[1;32m~\\AppData\\Local\\Packages\\PythonSoftwareFoundation.Python.3.10_qbz5n2kfra8p0\\LocalCache\\local-packages\\Python310\\site-packages\\numpy\\lib\\shape_base.py:402\u001b[0m, in \u001b[0;36mapply_along_axis\u001b[1;34m(func1d, axis, arr, *args, **kwargs)\u001b[0m\n\u001b[0;32m    400\u001b[0m buff[ind0] \u001b[39m=\u001b[39m res\n\u001b[0;32m    401\u001b[0m \u001b[39mfor\u001b[39;00m ind \u001b[39min\u001b[39;00m inds:\n\u001b[1;32m--> 402\u001b[0m     buff[ind] \u001b[39m=\u001b[39m asanyarray(func1d(inarr_view[ind], \u001b[39m*\u001b[39margs, \u001b[39m*\u001b[39m\u001b[39m*\u001b[39mkwargs))\n\u001b[0;32m    404\u001b[0m \u001b[39mif\u001b[39;00m \u001b[39mnot\u001b[39;00m \u001b[39misinstance\u001b[39m(res, matrix):\n\u001b[0;32m    405\u001b[0m     \u001b[39m# wrap the array, to preserve subclasses\u001b[39;00m\n\u001b[0;32m    406\u001b[0m     buff \u001b[39m=\u001b[39m res\u001b[39m.\u001b[39m__array_wrap__(buff)\n",
      "File \u001b[1;32mc:\\Users\\zvig\\OneDrive - University of Iowa\\Desktop\\Python Code\\M3_Pro\\cubic_spline_image.py:47\u001b[0m, in \u001b[0;36mspline_fit.<locals>.spline_func\u001b[1;34m(averaged_spectrum_pixel)\u001b[0m\n\u001b[0;32m     46\u001b[0m \u001b[39mdef\u001b[39;00m \u001b[39mspline_func\u001b[39m(averaged_spectrum_pixel):\n\u001b[1;32m---> 47\u001b[0m     f \u001b[39m=\u001b[39m CubicSpline(averageWvl_index,averaged_spectrum_pixel)\n\u001b[0;32m     48\u001b[0m     resample_x \u001b[39m=\u001b[39m np\u001b[39m.\u001b[39mlinspace(\u001b[39m0\u001b[39m,\u001b[39mlen\u001b[39m(wvl),inputImage\u001b[39m.\u001b[39mshape[\u001b[39m2\u001b[39m])\n\u001b[0;32m     49\u001b[0m     \u001b[39mreturn\u001b[39;00m f(resample_x)\n",
      "File \u001b[1;32m~\\AppData\\Local\\Packages\\PythonSoftwareFoundation.Python.3.10_qbz5n2kfra8p0\\LocalCache\\local-packages\\Python310\\site-packages\\scipy\\interpolate\\_cubic.py:794\u001b[0m, in \u001b[0;36mCubicSpline.__init__\u001b[1;34m(self, x, y, axis, bc_type, extrapolate)\u001b[0m\n\u001b[0;32m    789\u001b[0m                 b[\u001b[39m-\u001b[39m\u001b[39m1\u001b[39m] \u001b[39m=\u001b[39m \u001b[39m0.5\u001b[39m \u001b[39m*\u001b[39m bc_end[\u001b[39m1\u001b[39m] \u001b[39m*\u001b[39m dx[\u001b[39m-\u001b[39m\u001b[39m1\u001b[39m]\u001b[39m*\u001b[39m\u001b[39m*\u001b[39m\u001b[39m2\u001b[39m \u001b[39m+\u001b[39m \u001b[39m3\u001b[39m \u001b[39m*\u001b[39m (y[\u001b[39m-\u001b[39m\u001b[39m1\u001b[39m] \u001b[39m-\u001b[39m y[\u001b[39m-\u001b[39m\u001b[39m2\u001b[39m])\n\u001b[0;32m    791\u001b[0m             s \u001b[39m=\u001b[39m solve_banded((\u001b[39m1\u001b[39m, \u001b[39m1\u001b[39m), A, b, overwrite_ab\u001b[39m=\u001b[39m\u001b[39mTrue\u001b[39;00m,\n\u001b[0;32m    792\u001b[0m                              overwrite_b\u001b[39m=\u001b[39m\u001b[39mTrue\u001b[39;00m, check_finite\u001b[39m=\u001b[39m\u001b[39mFalse\u001b[39;00m)\n\u001b[1;32m--> 794\u001b[0m \u001b[39msuper\u001b[39;49m()\u001b[39m.\u001b[39;49m\u001b[39m__init__\u001b[39;49m(x, y, s, axis\u001b[39m=\u001b[39;49m\u001b[39m0\u001b[39;49m, extrapolate\u001b[39m=\u001b[39;49mextrapolate)\n\u001b[0;32m    795\u001b[0m \u001b[39mself\u001b[39m\u001b[39m.\u001b[39maxis \u001b[39m=\u001b[39m axis\n",
      "File \u001b[1;32m~\\AppData\\Local\\Packages\\PythonSoftwareFoundation.Python.3.10_qbz5n2kfra8p0\\LocalCache\\local-packages\\Python310\\site-packages\\scipy\\interpolate\\_cubic.py:153\u001b[0m, in \u001b[0;36mCubicHermiteSpline.__init__\u001b[1;34m(self, x, y, dydx, axis, extrapolate)\u001b[0m\n\u001b[0;32m    150\u001b[0m c[\u001b[39m2\u001b[39m] \u001b[39m=\u001b[39m dydx[:\u001b[39m-\u001b[39m\u001b[39m1\u001b[39m]\n\u001b[0;32m    151\u001b[0m c[\u001b[39m3\u001b[39m] \u001b[39m=\u001b[39m y[:\u001b[39m-\u001b[39m\u001b[39m1\u001b[39m]\n\u001b[1;32m--> 153\u001b[0m \u001b[39msuper\u001b[39;49m()\u001b[39m.\u001b[39m\u001b[39m__init__\u001b[39m(c, x, extrapolate\u001b[39m=\u001b[39mextrapolate)\n\u001b[0;32m    154\u001b[0m \u001b[39mself\u001b[39m\u001b[39m.\u001b[39maxis \u001b[39m=\u001b[39m axis\n",
      "\u001b[1;31mKeyboardInterrupt\u001b[0m: "
     ]
    }
   ],
   "source": [
    "##Running spectrum smoothing step\n",
    "from run_spectrum_smoothing_step import spectrum_smoothing\n",
    "spectrum_smoothing(False)"
   ]
  },
  {
   "cell_type": "code",
   "execution_count": null,
   "metadata": {},
   "outputs": [],
   "source": [
    "##Running band position mapping step\n",
    "from run_band_position_mapping import band_position_mapping\n",
    "band_position_mapping(False)"
   ]
  },
  {
   "cell_type": "code",
   "execution_count": null,
   "metadata": {},
   "outputs": [],
   "source": [
    "##Running spectral angle mapping step\n",
    "from run_spectral_angle_mapping import sa_mapping\n",
    "sa_mapping(False)"
   ]
  },
  {
   "cell_type": "code",
   "execution_count": null,
   "metadata": {},
   "outputs": [],
   "source": [
    "##Running band depth mapping step\n",
    "from run_band_depth_mapping import bd_mapping\n",
    "bd_mapping(False)"
   ]
  },
  {
   "cell_type": "code",
   "execution_count": 25,
   "metadata": {},
   "outputs": [],
   "source": [
    "def get_summary_dataframe(boolean_array:np.ndarray,map_coord_array:np.ndarray,value_name_list:list,*args)->pd.DataFrame:\n",
    "    true_coords = np.where(boolean_array==True)\n",
    "    value_array = np.array([i[true_coords] for i in args]).T #N by len(args) array of values at each True boolean pixel\n",
    "    map_coords = map_coord_array[true_coords[0],true_coords[1],:]\n",
    "\n",
    "    summary_array = np.concatenate([map_coords,np.array([true_coords[0],true_coords[1]]).T,value_array],axis=1)\n",
    "    summary_df = pd.DataFrame(summary_array)\n",
    "    summary_df.columns = ['Longitude','Latitude','Elevation','x','y',*value_name_list]\n",
    "\n",
    "    return summary_df"
   ]
  },
  {
   "cell_type": "code",
   "execution_count": 28,
   "metadata": {},
   "outputs": [
    {
     "name": "stdout",
     "output_type": "stream",
     "text": [
      "2469\n"
     ]
    },
    {
     "ename": "ValueError",
     "evalue": "all the input arrays must have same number of dimensions, but the array at index 0 has 2 dimension(s) and the array at index 2 has 1 dimension(s)",
     "output_type": "error",
     "traceback": [
      "\u001b[1;31m---------------------------------------------------------------------------\u001b[0m",
      "\u001b[1;31mValueError\u001b[0m                                Traceback (most recent call last)",
      "Cell \u001b[1;32mIn[28], line 45\u001b[0m\n\u001b[0;32m     43\u001b[0m \u001b[39mprint\u001b[39m (\u001b[39mlen\u001b[39m(np\u001b[39m.\u001b[39mwhere(i)[\u001b[39m0\u001b[39m]))\n\u001b[0;32m     44\u001b[0m tf\u001b[39m.\u001b[39mimwrite(os\u001b[39m.\u001b[39mpath\u001b[39m.\u001b[39mjoin(folder_path,\u001b[39m'\u001b[39m\u001b[39mice_detection_results\u001b[39m\u001b[39m'\u001b[39m,\u001b[39mf\u001b[39m\u001b[39m'\u001b[39m\u001b[39m{\u001b[39;00mstamp_name\u001b[39m}\u001b[39;00m\u001b[39m.tif\u001b[39m\u001b[39m'\u001b[39m),i\u001b[39m.\u001b[39mastype(\u001b[39m'\u001b[39m\u001b[39mfloat32\u001b[39m\u001b[39m'\u001b[39m))\n\u001b[1;32m---> 45\u001b[0m summary_df \u001b[39m=\u001b[39m get_summary_dataframe(bool_array,loc_array,[\u001b[39m'\u001b[39;49m\u001b[39m'\u001b[39;49m])\n",
      "Cell \u001b[1;32mIn[25], line 6\u001b[0m, in \u001b[0;36mget_summary_dataframe\u001b[1;34m(boolean_array, map_coord_array, value_name_list, *args)\u001b[0m\n\u001b[0;32m      3\u001b[0m value_array \u001b[39m=\u001b[39m np\u001b[39m.\u001b[39marray([i[true_coords] \u001b[39mfor\u001b[39;00m i \u001b[39min\u001b[39;00m args])\u001b[39m.\u001b[39mT \u001b[39m#N by len(args) array of values at each True boolean pixel\u001b[39;00m\n\u001b[0;32m      4\u001b[0m map_coords \u001b[39m=\u001b[39m map_coord_array[true_coords[\u001b[39m0\u001b[39m],true_coords[\u001b[39m1\u001b[39m],:]\n\u001b[1;32m----> 6\u001b[0m summary_array \u001b[39m=\u001b[39m np\u001b[39m.\u001b[39;49mconcatenate([map_coords,np\u001b[39m.\u001b[39;49marray([true_coords[\u001b[39m0\u001b[39;49m],true_coords[\u001b[39m1\u001b[39;49m]])\u001b[39m.\u001b[39;49mT,value_array],axis\u001b[39m=\u001b[39;49m\u001b[39m1\u001b[39;49m)\n\u001b[0;32m      7\u001b[0m summary_df \u001b[39m=\u001b[39m pd\u001b[39m.\u001b[39mDataFrame(summary_array)\n\u001b[0;32m      8\u001b[0m summary_df\u001b[39m.\u001b[39mcolumns \u001b[39m=\u001b[39m [\u001b[39m'\u001b[39m\u001b[39mLongitude\u001b[39m\u001b[39m'\u001b[39m,\u001b[39m'\u001b[39m\u001b[39mLatitude\u001b[39m\u001b[39m'\u001b[39m,\u001b[39m'\u001b[39m\u001b[39mElevation\u001b[39m\u001b[39m'\u001b[39m,\u001b[39m'\u001b[39m\u001b[39mx\u001b[39m\u001b[39m'\u001b[39m,\u001b[39m'\u001b[39m\u001b[39my\u001b[39m\u001b[39m'\u001b[39m,\u001b[39m*\u001b[39mvalue_name_list]\n",
      "File \u001b[1;32m<__array_function__ internals>:200\u001b[0m, in \u001b[0;36mconcatenate\u001b[1;34m(*args, **kwargs)\u001b[0m\n",
      "\u001b[1;31mValueError\u001b[0m: all the input arrays must have same number of dimensions, but the array at index 0 has 2 dimension(s) and the array at index 2 has 1 dimension(s)"
     ]
    }
   ],
   "source": [
    "##Getting ice water detection maps\n",
    "criteria = {\n",
    "    'Band Positioning':True,\n",
    "    'Spectral Angle':30.0,\n",
    "    'Band Depth':0.1\n",
    "}\n",
    "\n",
    "folder_path = 'D:/Data/Ice_Pipeline_Out_8-7-23'\n",
    "\n",
    "with open(os.path.join(folder_path,'stampNames.txt')) as f:\n",
    "    stamp_names = f.readlines()\n",
    "stamp_names = [i[:-2] for i in stamp_names]\n",
    "\n",
    "def get_bool_arrays(stamp_name,**kwargs)->tuple[np.ndarray,np.ndarray,np.ndarray]:\n",
    "    if kwargs.get('Band Positioning')==True:\n",
    "        array1 = tf.imread(os.path.join(folder_path,'ice_band_bool',f'{stamp_name}.tif'))\n",
    "    else:\n",
    "        array1 = np.ones(tf.imread(os.path.join(folder_path,'ice_band_bool',f'{stamp_name}.tif')).shape)\n",
    "    \n",
    "    if kwargs.get('Spectral Angle') != False:\n",
    "        array2 = tf.imread(os.path.join(folder_path,f'spectral_angle_bool_{kwargs.get(\"Spectral Angle\")}',f'{stamp_name}.tif'))\n",
    "    else:\n",
    "        array2 = np.ones(array1.shape)\n",
    "\n",
    "    if kwargs.get('Band Depth') != False:\n",
    "        array3 = tf.imread(os.path.join(folder_path,f'band_depth_bool_{kwargs.get(\"Band Depth\")}',f'{stamp_name}.tif'))\n",
    "    else:\n",
    "        array3 = np.ones(array1.shape)\n",
    "\n",
    "    return array1,array2,array3\n",
    "\n",
    "\n",
    "array_list = [get_bool_arrays(i,**criteria) for i in stamp_names]\n",
    "\n",
    "try:\n",
    "    os.mkdir(os.path.join(folder_path,'ice_detection_results'))\n",
    "except:\n",
    "    pass\n",
    "\n",
    "new_bool_array = [i*j*k for i,j,k in array_list]\n",
    "loc_arrays = [tf.imread(os.path.join(folder_path,'loc_cropped',i)) for i in os.listdir(os.path.join(folder_path,'loc_cropped'))]\n",
    "for bool_array,loc_array,bd_array,sa_array,stamp_name in zip(new_bool_array,loc_arrays,array3,array2,stamp_names):\n",
    "    print (len(np.where(i)[0]))\n",
    "    tf.imwrite(os.path.join(folder_path,'ice_detection_results',f'{stamp_name}.tif'),i.astype('float32'))\n",
    "    summary_df = get_summary_dataframe(bool_array,loc_array,['Band Dep'])"
   ]
  }
 ],
 "metadata": {
  "kernelspec": {
   "display_name": "Python 3",
   "language": "python",
   "name": "python3"
  },
  "language_info": {
   "codemirror_mode": {
    "name": "ipython",
    "version": 3
   },
   "file_extension": ".py",
   "mimetype": "text/x-python",
   "name": "python",
   "nbconvert_exporter": "python",
   "pygments_lexer": "ipython3",
   "version": "3.10.11"
  },
  "orig_nbformat": 4
 },
 "nbformat": 4,
 "nbformat_minor": 2
}
